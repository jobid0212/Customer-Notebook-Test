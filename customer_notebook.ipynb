{
 "cells": [
  {
   "cell_type": "markdown",
   "metadata": {},
   "source": [
    "# Customer App"
   ]
  },
  {
   "cell_type": "markdown",
   "metadata": {},
   "source": [
    "# Section 1"
   ]
  },
  {
   "cell_type": "markdown",
   "metadata": {},
   "source": [
    "More than one frame/one tab\n",
    "\n",
    "At least one image\n",
    "\n",
    "customer class, stores info about customer; at least 3 pieces of info\n",
    "\n",
    "standard contrusctor methods(?), method write customers info into txt. file\n",
    "\n",
    "store information of customer into txt\n",
    "\n",
    "read and access customer data from the .txt File\n",
    "\n",
    "add/remove customers from you list/program\n",
    "\n",
    "create a dropdown menu that allows you to select, display, and edit info about your customer"
   ]
  },
  {
   "cell_type": "markdown",
   "metadata": {},
   "source": [
    "## Back End"
   ]
  },
  {
   "cell_type": "code",
   "execution_count": 10,
   "metadata": {},
   "outputs": [],
   "source": [
    "from tkinter import *\n",
    "\n",
    "def update_customers(customers_list):      #updates customer_data.txt. file --> replaces with list inputted as a parameter\n",
    "    file = open('customer_data.txt','w')\n",
    "    file.write(categories+\"\\n\")\n",
    "    for item in customers_list:\n",
    "        file.write(item+\"\\n\")\n",
    "    file.close()\n",
    "\n",
    "def remove_customer(customers_list, customer):    #removes specified customer from customer list and calls update_customer method\n",
    "    customers_list.remove(customer)\n",
    "    update_customers(customers_list)\n",
    "\n",
    "\n",
    "f = open(\"customer_data.txt\", \"r\")\n",
    "customers = f.readlines()\n",
    "\n",
    "for i in range(0, len(customers)):\n",
    "    customers[i] = customers[i].strip(\"\\n\")\n",
    "categories = customers.pop(0)\n",
    "\n",
    "\n"
   ]
  },
  {
   "cell_type": "markdown",
   "metadata": {},
   "source": [
    "## Front End"
   ]
  },
  {
   "cell_type": "code",
   "execution_count": 11,
   "metadata": {},
   "outputs": [
    {
     "name": "stdout",
     "output_type": "stream",
     "text": [
      "['Eli, 18, 789@gmail.com', 'Jaden, 16, 456@gmail.com', 'Jared, 17, abc@gmail.com', 'Henry, 17, hij@gmail.com']\n",
      "Henry, 17, hij@gmail.com\n",
      "['Eli, 18, 789@gmail.com', 'Jaden, 16, 456@gmail.com', 'Jared, 17, abc@gmail.com']\n"
     ]
    }
   ],
   "source": [
    "root = Tk()\n",
    "root.geometry(\"400x400\")\n",
    "root.title(\"Select Customer\")\n",
    "\n",
    "def show():\n",
    "    myLabel = Label(root, text=customer_button.get()).pack()\n",
    "\n",
    "\n",
    "def update_root():\n",
    "    print(customers)\n",
    "    global customer_button\n",
    "    global drop\n",
    "    drop.children[\"menu\"].delete(0,\"end\")\n",
    "    for c in customers:\n",
    "        drop.children[\"menu\"].add_command(label=c, command=lambda cus = c: customer_button.set(cus))\n",
    "    customer_button.set(\"Customers\")\n",
    "\n",
    "def open_remove_window():\n",
    "    def remove():\n",
    "        customer = customer_button.get()\n",
    "        print(customer)\n",
    "        remove_customer(customers, customer)\n",
    "        top.destroy()\n",
    "        update_root()\n",
    "\n",
    "    top = Toplevel()\n",
    "    top.title(\"Remove Customer\")\n",
    "    top.geometry(\"400x400\")\n",
    "    top_label = Label(top, text = \"Remove Customer\\nWill remove customer selected in 'Select Customer' window\").pack()\n",
    "    removed_customer_label = Label(top, text= \"This Willl Remove \" + customer_button.get()).pack()\n",
    "    remove_button = Button(top, text=\"Remove Customer\", command=remove).pack()\n",
    "    close_button = Button(top, text=\"Close Window\", command=top.destroy).pack()\n",
    "\n",
    "def open_add_window():\n",
    "    def add():\n",
    "        new_customer = name_entry.get() + \", \" + age_entry.get() + \", \" + email_entry.get()\n",
    "        customers.append(new_customer)\n",
    "        update_customers(customers)\n",
    "        name_entry.delete(0,\"end\")\n",
    "        age_entry.delete(0,\"end\")\n",
    "        email_entry.delete(0,\"end\")\n",
    "        name_entry.insert(0,\"Enter Your Name\")\n",
    "        age_entry.insert(0,\"Enter Your Age\")\n",
    "        email_entry.insert(0,\"Enter Your Email\")\n",
    "        update_root()\n",
    "\n",
    "    top = Toplevel()\n",
    "    top.title(\"Add Customer\")\n",
    "    top.geometry(\"400x400\")\n",
    "    top_label = Label(top, text=\"Add Customer\").pack()\n",
    "\n",
    "    name_entry = Entry(top)\n",
    "    name_entry.pack()\n",
    "    name_entry.insert(0,\"Enter Your Name\")\n",
    "\n",
    "    age_entry = Entry(top)\n",
    "    age_entry.pack()\n",
    "    age_entry.insert(0,\"Enter Your Age\")\n",
    "\n",
    "    email_entry = Entry(top)\n",
    "    email_entry.pack()\n",
    "    email_entry.insert(0,\"Enter Your Email\")\n",
    "\n",
    "    add_button = Button(top, text=\"Add Customer to database\", command=add).pack()   #add command\n",
    "    close_button = Button(top, text=\"Close Window\", command=top.destroy).pack()\n",
    "\n",
    "def open_edit_window():\n",
    "    def apply_edit():\n",
    "        new_customer = name_entry.get() + \", \" + age_entry.get() + \", \" + email_entry.get()\n",
    "        customers.remove(customer_button.get())\n",
    "        customers.append(new_customer)\n",
    "        update_customers(customers)\n",
    "        name_entry.delete(0,\"end\")\n",
    "        age_entry.delete(0,\"end\")\n",
    "        email_entry.delete(0,\"end\")\n",
    "        top.destroy()\n",
    "        update_root()\n",
    "\n",
    "    top = Toplevel()\n",
    "    top.title(\"Edit Customer\")\n",
    "    top.geometry(\"400x400\")\n",
    "    top_label = Label(top, text=\"Edit Customer\").pack()\n",
    "\n",
    "    customer_list = customer_button.get().split(\", \")\n",
    "    print(customer_list)\n",
    "\n",
    "    name_entry = Entry(top)\n",
    "    name_entry.pack()\n",
    "    name_entry.insert(0, customer_list[0])\n",
    "\n",
    "    age_entry = Entry(top)\n",
    "    age_entry.pack()\n",
    "    age_entry.insert(0, customer_list[1])\n",
    "\n",
    "    email_entry = Entry(top)\n",
    "    email_entry.pack()\n",
    "    email_entry.insert(0, customer_list[2])\n",
    "\n",
    "    edit_button = Button(top, text=\"Apply Changes\", command=apply_edit).pack()\n",
    "    close_button = Button(top, text=\"Close Window\", command=top.destroy).pack()\n",
    "\n",
    "global customer_button\n",
    "customer_button = StringVar()\n",
    "customer_button.set(\"Customers\")\n",
    "global drop\n",
    "drop = OptionMenu(root, customer_button, *customers)\n",
    "drop.pack()\n",
    "\n",
    "show_data_button = Button(root, text=\"Show Customer\", command=show).pack()\n",
    "\n",
    "remove_customer_window = Button(root, text=\"Remove Customer\", command=open_remove_window).pack()\n",
    "add_customer_window = Button(root, text=\"Add Customer\", command=open_add_window).pack()\n",
    "edit_customer_window = Button(root, text=\"Edit Customer\", command=open_edit_window).pack()\n",
    "\n",
    "print(customers)\n",
    "f.close()\n",
    "root.mainloop()"
   ]
  }
 ],
 "metadata": {
  "kernelspec": {
   "display_name": "Python 3",
   "language": "python",
   "name": "python3"
  },
  "language_info": {
   "codemirror_mode": {
    "name": "ipython",
    "version": 3
   },
   "file_extension": ".py",
   "mimetype": "text/x-python",
   "name": "python",
   "nbconvert_exporter": "python",
   "pygments_lexer": "ipython3",
   "version": "3.12.5"
  }
 },
 "nbformat": 4,
 "nbformat_minor": 2
}
